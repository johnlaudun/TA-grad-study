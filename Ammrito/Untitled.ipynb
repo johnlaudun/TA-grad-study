{
 "cells": [
  {
   "cell_type": "code",
   "execution_count": 5,
   "id": "8dfbe02a-b1fd-4e13-8fef-9bcdb002b2ab",
   "metadata": {},
   "outputs": [],
   "source": [
    "text = 'I am a student'"
   ]
  },
  {
   "cell_type": "code",
   "execution_count": 6,
   "id": "c42ba040-ef6a-4d57-b249-f7109dd1a625",
   "metadata": {},
   "outputs": [
    {
     "name": "stdout",
     "output_type": "stream",
     "text": [
      "I am a student\n"
     ]
    }
   ],
   "source": [
    "print(text)"
   ]
  },
  {
   "cell_type": "code",
   "execution_count": null,
   "id": "9ab859ba-de6e-451d-82fa-7282f90dd9fc",
   "metadata": {},
   "outputs": [],
   "source": []
  },
  {
   "cell_type": "code",
   "execution_count": 9,
   "id": "92aca13e-2fee-4704-8455-9ddf9c71cb08",
   "metadata": {},
   "outputs": [
    {
     "name": "stdout",
     "output_type": "stream",
     "text": [
      "a: 24\n",
      "to: 20\n",
      "you: 14\n",
      "in: 13\n",
      "the: 13\n",
      "of: 12\n",
      "is: 11\n",
      "and: 10\n",
      "personal: 9\n",
      "about: 8\n"
     ]
    }
   ],
   "source": [
    "from collections import Counter\n",
    "import os\n",
    "\n",
    "# Specify the path to the file\n",
    "file_path = '/Users/ammritolalroy/Downloads/Argument from Personal Experience, 1000 words.txt'  # Replace this with your actual file path\n",
    "\n",
    "# Function to read file and count word frequencies\n",
    "def count_word_frequency(file_path):\n",
    "    # Check if the file exists\n",
    "    if not os.path.isfile(file_path):\n",
    "        print(f\"The file at {file_path} does not exist.\")\n",
    "        return None\n",
    "    \n",
    "    with open(file_path, 'r', encoding='utf-8') as file:\n",
    "        text = file.read()\n",
    "\n",
    "    # Normalize the text to lowercase\n",
    "    text = text.lower()\n",
    "\n",
    "    # Split the text into words\n",
    "    words = text.split()\n",
    "\n",
    "    # Count the frequency of each word\n",
    "    word_freq = Counter(words)\n",
    "\n",
    "    return word_freq\n",
    "\n",
    "# Get the word frequencies\n",
    "word_frequencies = count_word_frequency(file_path)\n",
    "\n",
    "# Display the word frequencies\n",
    "if word_frequencies:\n",
    "    for word, freq in word_frequencies.most_common(10):  # Display top 10 most common words\n",
    "        print(f\"{word}: {freq}\")\n"
   ]
  },
  {
   "cell_type": "code",
   "execution_count": null,
   "id": "592e4008-4736-4f5a-ab08-e7009933eb06",
   "metadata": {},
   "outputs": [],
   "source": []
  }
 ],
 "metadata": {
  "kernelspec": {
   "display_name": "Python 3 (ipykernel)",
   "language": "python",
   "name": "python3"
  },
  "language_info": {
   "codemirror_mode": {
    "name": "ipython",
    "version": 3
   },
   "file_extension": ".py",
   "mimetype": "text/x-python",
   "name": "python",
   "nbconvert_exporter": "python",
   "pygments_lexer": "ipython3",
   "version": "3.11.7"
  }
 },
 "nbformat": 4,
 "nbformat_minor": 5
}
