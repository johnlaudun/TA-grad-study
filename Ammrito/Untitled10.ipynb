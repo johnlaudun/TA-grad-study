{
 "cells": [
  {
   "cell_type": "code",
   "execution_count": 1,
   "id": "07def365-c7ad-430a-87a7-3ef549648d2f",
   "metadata": {},
   "outputs": [
    {
     "name": "stderr",
     "output_type": "stream",
     "text": [
      "[nltk_data] Downloading package punkt to\n",
      "[nltk_data]     /Users/ammritolalroy/nltk_data...\n",
      "[nltk_data]   Unzipping tokenizers/punkt.zip.\n"
     ]
    },
    {
     "data": {
      "text/plain": [
       "True"
      ]
     },
     "execution_count": 1,
     "metadata": {},
     "output_type": "execute_result"
    }
   ],
   "source": [
    "import nltk\n",
    "nltk.download('punkt')\n"
   ]
  },
  {
   "cell_type": "code",
   "execution_count": 5,
   "id": "af32a448-0c5f-4515-a642-fc99e76a8c9b",
   "metadata": {},
   "outputs": [
    {
     "name": "stderr",
     "output_type": "stream",
     "text": [
      "[nltk_data] Downloading package stopwords to\n",
      "[nltk_data]     /Users/ammritolalroy/nltk_data...\n",
      "[nltk_data]   Unzipping corpora/stopwords.zip.\n"
     ]
    },
    {
     "data": {
      "text/plain": [
       "True"
      ]
     },
     "execution_count": 5,
     "metadata": {},
     "output_type": "execute_result"
    }
   ],
   "source": [
    "import nltk\n",
    "nltk.download('stopwords')\n"
   ]
  },
  {
   "cell_type": "code",
   "execution_count": 7,
   "id": "567b589f-cbb9-4d3c-811c-8dcb1a843455",
   "metadata": {},
   "outputs": [
    {
     "name": "stdout",
     "output_type": "stream",
     "text": [
      "Stopwords in English: {'does', 'further', 'over', 'to', 'against', 'too', 'should', 'are', 'theirs', 'yourselves', 'for', 'through', 'until', 'this', \"wouldn't\", 'him', \"should've\", 'aren', 'hers', 'hadn', 'wasn', 'or', 'having', \"hadn't\", 'it', \"you've\", 'did', 'ours', 'up', 'shouldn', 'yours', 'who', \"shouldn't\", \"haven't\", 'now', 'weren', 'themselves', \"couldn't\", \"won't\", 'is', 'doing', 'these', 'needn', \"she's\", 'under', 'why', \"weren't\", 'yourself', \"isn't\", 'above', \"you'll\", 't', 're', 'wouldn', 'off', 'ourselves', 'those', 'each', 'at', 'from', 'where', 'but', 'with', 'into', 'himself', 'after', 'most', 'i', 'mustn', 'y', 'how', 'my', 'she', 'in', 'just', 'll', 'once', 'isn', 'what', 'doesn', 'any', \"wasn't\", \"doesn't\", 'won', 'they', 'we', 'down', 'again', 'an', 'your', 'you', 'all', 'will', 'd', 'while', 'so', 'then', 'few', 'as', 'no', 'ain', 'nor', 'other', 'was', 'don', 'between', 'which', 'more', \"didn't\", 'am', 'such', 'than', 'myself', 'that', 'by', 'before', 'its', 'he', \"aren't\", \"mightn't\", 'because', 's', \"it's\", 'during', 'below', 'couldn', 'me', 'be', 'here', 'own', 'didn', 'were', 'shan', 'when', \"don't\", 'ma', 'itself', 'a', \"mustn't\", 'been', 'them', 'whom', 'same', 'their', 'if', 'had', \"that'll\", 'mightn', 'out', 'some', 'can', 'of', \"hasn't\", 'herself', 'the', 'his', 'do', 'there', 'both', 'm', 'has', 'very', 'hasn', 'on', 'o', \"needn't\", 'about', 'not', 'our', \"shan't\", \"you'd\", 'have', \"you're\", 'being', 've', 'and', 'only', 'haven', 'her'}\n",
      "Filtered text: ['simple', 'test', 'see', 'stopwords', 'removed.']\n"
     ]
    }
   ],
   "source": [
    "from nltk.corpus import stopwords\n",
    "\n",
    "# Check English stopwords\n",
    "stop_words = set(stopwords.words('english'))\n",
    "print(\"Stopwords in English:\", stop_words)\n",
    "\n",
    "# Test with some text\n",
    "text = \"This is a simple test to see if stopwords are removed.\"\n",
    "words = text.split()\n",
    "filtered_words = [word for word in words if word.lower() not in stop_words]\n",
    "\n",
    "print(\"Filtered text:\", filtered_words)\n"
   ]
  },
  {
   "cell_type": "code",
   "execution_count": 19,
   "id": "ab019148-c73c-40ca-b59e-2bd28328c3ad",
   "metadata": {},
   "outputs": [],
   "source": [
    "import nltk\n",
    "# Append the correct path where the punkt tokenizer is located\n",
    "nltk.data.path.append('/Users/ammritolalroy/nltk_data')"
   ]
  },
  {
   "cell_type": "code",
   "execution_count": null,
   "id": "880b6e58-192d-4a4b-b6a8-6ef33f4c6e44",
   "metadata": {},
   "outputs": [],
   "source": []
  }
 ],
 "metadata": {
  "kernelspec": {
   "display_name": "Python 3 (ipykernel)",
   "language": "python",
   "name": "python3"
  },
  "language_info": {
   "codemirror_mode": {
    "name": "ipython",
    "version": 3
   },
   "file_extension": ".py",
   "mimetype": "text/x-python",
   "name": "python",
   "nbconvert_exporter": "python",
   "pygments_lexer": "ipython3",
   "version": "3.11.7"
  }
 },
 "nbformat": 4,
 "nbformat_minor": 5
}
